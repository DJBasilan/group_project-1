{
  "nbformat": 4,
  "nbformat_minor": 0,
  "metadata": {
    "colab": {
      "name": "ModelTrainer",
      "provenance": [],
      "collapsed_sections": []
    },
    "kernelspec": {
      "name": "python3",
      "display_name": "Python 3"
    },
    "accelerator": "GPU"
  },
  "cells": [
    {
      "cell_type": "markdown",
      "metadata": {
        "id": "pvmSeNyERu5p",
        "colab_type": "text"
      },
      "source": [
        "Firstly, enable the GPU within the notebook settings.\n",
        "\n",
        "1. Download the training data from the following link : https://drive.google.com/open?id=10niBg6RVnK5DUgwdrtBoAjgj309yZ4Q7\n",
        "When uploading the file, it may need to be renamed to (dataset.zip)\n",
        "2. Download the latest model weights from : https://drive.google.com/open?id=1DBeBsktlh5Pp1w21QWrJ7-fC1wsXbhAg\n",
        "\n",
        "Run the following cell to clone the needed repositories and set up the model for training alongside creating the needed files for training the model. "
      ]
    },
    {
      "cell_type": "code",
      "metadata": {
        "id": "pjFIXA7jM69D",
        "colab_type": "code",
        "colab": {}
      },
      "source": [
        "# Clones the github containing the darknet model\n",
        "!git clone https://github.com/AlexeyAB/darknet/\n",
        "\n",
        "# Clones the github used to convert the model into a keras format\n",
        "!git clone https://github.com/qqwweee/keras-yolo3\n",
        "\n",
        "# Goes into the make file and allows the model to use CUDNN and train using a \n",
        "# GPU\n",
        "%cd /content/darknet\n",
        "!sed -i 's/CUDNN=0/CUDNN=1/g' Makefile\n",
        "!sed -i 's/OPENCV=0/OPENCV=1/g' Makefile\n",
        "!sed -i 's/GPU=0/GPU=1/g' Makefile\n",
        "\n",
        "# Makes the model\n",
        "\n",
        "%cd /content/darknet\n",
        "!make\n",
        "\n",
        "# Unzip the dataset\n",
        "%cd /content/\n",
        "!unzip /content/dataset.zip\n",
        "\n",
        "# Create the train.txt file used during training to tell the model where to \n",
        "# find the training data. A test.txt file is not used as the model is not \n",
        "# evaluated here. The function iterates through all of the training data and \n",
        "# write the filenames into a text file.\n",
        "import os \n",
        "def create_train_file():\n",
        "  directory = \"/content/dataset\"\n",
        "  counter = 0\n",
        "  files= []\n",
        "  try:\n",
        "    for filename in os.listdir(directory):\n",
        "      if filename.endswith('.jpg'):\n",
        "        counter+=1\n",
        "        files.append(os.path.join('/content/darknet/dataset/'+filename))\n",
        "    file_new = open('/content/train.txt','w')\n",
        "    for i in range(len(files)):\n",
        "      file_new.write(files[i]+\"\\n\")\n",
        "  except FileNotFound:\n",
        "    print(\"Dataset folder could not be located\")\n",
        "\n",
        "# Calls the function twice because of a bug in Colab when writing files\n",
        "for i in range(2):\n",
        "  create_train_file()\n",
        "\n",
        "\n",
        "# Moves the dataset file into the darkent directory\n",
        "!mv /content/dataset /content/darknet\n",
        "\n",
        "# Moves the train.txt file into darket\n",
        "!mv /content/train.txt /content/darknet\n",
        "\n",
        "# Calls the function twice because of a bug in Colab when writing files\n",
        "# Creates the obj.data file needed for training the model\n",
        "for i in range(2):\n",
        "  obj_data = open('/content/obj.data','w')\n",
        "  obj_data.write(\"classes= 2\"+\"\\n\"+\"train  = train.txt\" +\"\\n\"+\"train  = train.txt\" +\"\\n\"+\n",
        "          \"names = obj.names \"+\"\\n\"+\"backup = backup/\")\n",
        "\n",
        "# Moves the created files into the correct directories for the model to locate\n",
        "!mv /content/darknet/dataset/classes.txt /content/darknet/cfg\n",
        "!mv /content/obj.data /content/darknet/cfg\n",
        "!mv /content/yolov3-tiny_last.weights /content/darknet\n",
        "\n",
        "# Renames the classes file to the expected filename\n",
        "os.rename('/content/darknet/cfg/classes.txt','/content/darknet/cfg/obj.names')\n"
      ],
      "execution_count": 0,
      "outputs": []
    },
    {
      "cell_type": "markdown",
      "metadata": {
        "id": "Dx9gGsJxPfVe",
        "colab_type": "text"
      },
      "source": [
        "Call this cell to locate the anchors needed for the system to detect the hand within the images"
      ]
    },
    {
      "cell_type": "code",
      "metadata": {
        "id": "4svKURcTM8CN",
        "colab_type": "code",
        "colab": {}
      },
      "source": [
        "%%bash\n",
        "cd darknet\n",
        "./darknet detector calc_anchors /content/darknet/cfg/obj.data -num_of_clusters 6 -width 416 -height 416 -show"
      ],
      "execution_count": 0,
      "outputs": []
    },
    {
      "cell_type": "markdown",
      "metadata": {
        "id": "HhcpwA8UPpa1",
        "colab_type": "text"
      },
      "source": [
        "This cell reads the anchors previously created and ammends them within the default tiny yolo config file. The corrects are then made to the number of classes to detect alongside the number of filters calculated as (number of classes to detect + 5 (the four bounding box co-ordinates plus the confidence of the prediction) x 3 (number of channels)).\n",
        "\n",
        "The file is then changed back into cfg format "
      ]
    },
    {
      "cell_type": "code",
      "metadata": {
        "id": "JcWeGatvNK1S",
        "colab_type": "code",
        "colab": {}
      },
      "source": [
        "try:\n",
        "  anchors = open('/content/darknet/anchors.txt','r')\n",
        "except FileNotFoundError:\n",
        "  print(\"Anchors could not be found\")\n",
        "\n",
        "contents =anchors.read()\n",
        "try:\n",
        "  os.rename('/content/darknet/cfg/yolov3-tiny.cfg','/content/darknet/cfg/yolov3-tiny.txt')\n",
        "except FileNotFoundError:\n",
        "  print(\"Tiny config could not be located\")\n",
        "\n",
        "try:\n",
        "  tiny_yolo_config = open('/content/darknet/cfg/yolov3-tiny.txt','r+')\n",
        "except FileNotFoundError:\n",
        "  print(\"Conversion file could not be located\")\n",
        "\n",
        "content = tiny_yolo_config.readlines()\n",
        "content[133] = \"anchors = \"+ contents +\"\\n\"\n",
        "content[134] = \"classes=3\\n\"\n",
        "content[176] = \"classes=3\\n\"\n",
        "content[175] = \"anchors = \"+ contents +\"\\n\"\n",
        "content[170] = \"filters= 24\\n\"\n",
        "content[126] = \"filters= 24\\n\"\n",
        "content[19] = \"max_batches = 600000\\n\"\n",
        "content[21] = \"steps=4000,5400\\n\"\n",
        "content[6] = \"# subdivisions=2\\n\"\n",
        "# Changes the saturation and exposure within the image during training.\n",
        "content[13] = \"saturation = 1.5\\n\"\n",
        "content[14] = \"exposure = 1.5\\n\"\n",
        "string = \"\"\n",
        "for line in content:\n",
        "  string+=line\n",
        "tiny_yolo_config.seek(0)\n",
        "tiny_yolo_config.write(string)\n",
        "\n",
        "try:\n",
        "  os.rename('/content/darknet/cfg/yolov3-tiny.txt','/content/darknet/cfg/yolov3-tiny.cfg')\n",
        "except FileNotFound:\n",
        "  print(\"File could not be located for conversion\")"
      ],
      "execution_count": 0,
      "outputs": []
    },
    {
      "cell_type": "markdown",
      "metadata": {
        "id": "5VZbx1eZREOA",
        "colab_type": "text"
      },
      "source": [
        "This cell is used to train the model. The weights are used from the last batch during previous training. The output new weights are located in the darknet/backup file."
      ]
    },
    {
      "cell_type": "code",
      "metadata": {
        "id": "UjDONXKoNMxf",
        "colab_type": "code",
        "outputId": "3cc5c489-6f5e-4531-8b14-e413fc76207e",
        "colab": {
          "base_uri": "https://localhost:8080/",
          "height": 34
        }
      },
      "source": [
        "%%bash\n",
        "cd darknet\n",
        "./darknet detector train cfg/obj.data cfg/yolov3-tiny.cfg /content/darknet/yolov3-tiny_last.weights -dont_show 0"
      ],
      "execution_count": 0,
      "outputs": [
        {
          "output_type": "stream",
          "text": [
            "Process is interrupted.\n"
          ],
          "name": "stdout"
        }
      ]
    },
    {
      "cell_type": "markdown",
      "metadata": {
        "id": "9_tMWksKRXSl",
        "colab_type": "text"
      },
      "source": [
        "The new weights are added to the config file and converted into Keras format using the convert.py python script by qqwweee."
      ]
    },
    {
      "cell_type": "markdown",
      "metadata": {
        "id": "08dXMpbST_nQ",
        "colab_type": "text"
      },
      "source": [
        "Download the yolo.h5 file and place it within the same directory as the python scripts."
      ]
    },
    {
      "cell_type": "code",
      "metadata": {
        "id": "mtocHxIwTcyf",
        "colab_type": "code",
        "colab": {}
      },
      "source": [
        "%%bash\n",
        "cd /content/keras-yolo3/\n",
        "python convert.py /content/darknet/cfg/yolov3-tiny.cfg /content/darknet/backup/yolov3-tiny_last.weights /content/yolo.h5"
      ],
      "execution_count": 0,
      "outputs": []
    },
    {
      "cell_type": "code",
      "metadata": {
        "id": "8BB_ftnsJhMi",
        "colab_type": "code",
        "colab": {}
      },
      "source": [
        ""
      ],
      "execution_count": 0,
      "outputs": []
    }
  ]
}